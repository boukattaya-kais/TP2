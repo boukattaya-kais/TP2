{
 "cells": [
  {
   "cell_type": "markdown",
   "id": "20aeaec6",
   "metadata": {},
   "source": [
    "EX1"
   ]
  },
  {
   "cell_type": "code",
   "execution_count": 2,
   "id": "ab802889",
   "metadata": {},
   "outputs": [
    {
     "name": "stdout",
     "output_type": "stream",
     "text": [
      "donner un entier a5\n",
      "donner un entier b6\n",
      "5 x 6= 30\n"
     ]
    }
   ],
   "source": [
    "a=int(input(\"donner un entier a\"))\n",
    "b=int(input(\"donner un entier b\"))\n",
    "s=0\n",
    "for i in range(b):\n",
    "    s+=a\n",
    "print(\"{} x {}= {}\".format(a,b,s) )"
   ]
  },
  {
   "cell_type": "markdown",
   "id": "a2b773b0",
   "metadata": {},
   "source": [
    "EX2"
   ]
  },
  {
   "cell_type": "code",
   "execution_count": 3,
   "id": "6b4a1476",
   "metadata": {},
   "outputs": [
    {
     "name": "stdout",
     "output_type": "stream",
     "text": [
      "donner un entier12\n",
      "nombre de diviseur = 4\n"
     ]
    }
   ],
   "source": [
    "a=int(input(\"donner un entier\"))\n",
    "s=0\n",
    "for i in range(2,a//2+1):\n",
    "    if(a%i==0):\n",
    "        s+=1\n",
    "print(\"nombre de diviseur =\",s)"
   ]
  },
  {
   "cell_type": "markdown",
   "id": "6ab1d4a4",
   "metadata": {},
   "source": [
    "EX3-a"
   ]
  },
  {
   "cell_type": "code",
   "execution_count": 4,
   "id": "4cee52a3",
   "metadata": {},
   "outputs": [
    {
     "name": "stdout",
     "output_type": "stream",
     "text": [
      "donner un entier14\n",
      "nombre de diviseur = 2\n",
      "non premier\n"
     ]
    }
   ],
   "source": [
    "a=int(input(\"donner un entier\"))\n",
    "s=0\n",
    "for i in range(2,a//2+1):\n",
    "    if(a%i==0):\n",
    "        s+=1\n",
    "print(\"nombre de diviseur =\",s)\n",
    "if(s==0):\n",
    "    print(\"premier\")\n",
    "else :\n",
    "     print(\"non premier\")"
   ]
  },
  {
   "cell_type": "markdown",
   "id": "b8bfc09b",
   "metadata": {},
   "source": [
    "Ex3-b"
   ]
  },
  {
   "cell_type": "code",
   "execution_count": 5,
   "id": "5c333643",
   "metadata": {},
   "outputs": [
    {
     "name": "stdout",
     "output_type": "stream",
     "text": [
      "donner un entier19\n",
      "1\n",
      "2\n",
      "3\n",
      "5\n",
      "7\n",
      "11\n",
      "13\n",
      "17\n"
     ]
    }
   ],
   "source": [
    "a=int(input(\"donner un entier\"))\n",
    "for j in range(1,a):\n",
    "    s=0\n",
    "    for i in range(2,j//2+1):\n",
    "        if(j%i==0):\n",
    "          s=s+1\n",
    "    if(s==0):\n",
    "        print(j)"
   ]
  },
  {
   "cell_type": "markdown",
   "id": "78e8c067",
   "metadata": {},
   "source": [
    "Ex4"
   ]
  },
  {
   "cell_type": "code",
   "execution_count": 8,
   "id": "24a7a215",
   "metadata": {},
   "outputs": [
    {
     "name": "stdout",
     "output_type": "stream",
     "text": [
      "donner n5\n",
      "*\n",
      "**\n",
      "***\n",
      "****\n",
      "*****\n"
     ]
    }
   ],
   "source": [
    "n=int(input(\"donner n\"))\n",
    "for i in range(1,n+1):\n",
    "    for j in range(1,i+1):\n",
    "        print(\"*\",end=\"\")\n",
    "    print('')"
   ]
  },
  {
   "cell_type": "markdown",
   "id": "e2cd7702",
   "metadata": {},
   "source": [
    "EX5"
   ]
  },
  {
   "cell_type": "code",
   "execution_count": 9,
   "id": "1d66c8bf",
   "metadata": {},
   "outputs": [
    {
     "name": "stdout",
     "output_type": "stream",
     "text": [
      "donner n5\n",
      "****\n",
      "***\n",
      "**\n",
      "*\n"
     ]
    }
   ],
   "source": [
    "n=int(input(\"donner n\"))\n",
    "for i in range(1,n):\n",
    "    for j in range(1,n-i+1):\n",
    "        print(\"*\",end=\"\")\n",
    "    print('')"
   ]
  },
  {
   "cell_type": "markdown",
   "id": "ebdf3792",
   "metadata": {},
   "source": [
    "EX6"
   ]
  },
  {
   "cell_type": "code",
   "execution_count": 10,
   "id": "048741f7",
   "metadata": {},
   "outputs": [
    {
     "name": "stdout",
     "output_type": "stream",
     "text": [
      "donner n5\n",
      "      *\n",
      "     ***\n",
      "    *****\n",
      "   *******\n",
      "  *********\n"
     ]
    }
   ],
   "source": [
    "n=int(input(\"donner n\"))\n",
    "for i in range(n):\n",
    "    for j in range(n-i+1):\n",
    "        print(\" \",end=\"\")\n",
    "    k=0\n",
    "    while(k<(2*i)+1):\n",
    "        print('*',end=\"\")\n",
    "        k+=1\n",
    "    print('')"
   ]
  },
  {
   "cell_type": "markdown",
   "id": "b71fff7b",
   "metadata": {},
   "source": [
    "EX7"
   ]
  },
  {
   "cell_type": "code",
   "execution_count": 17,
   "id": "407a18fa",
   "metadata": {},
   "outputs": [
    {
     "name": "stdout",
     "output_type": "stream",
     "text": [
      "Lapin\n",
      "Chat\n",
      "Chien\n",
      "Chiot\n",
      "Dragon\n",
      "Ornithorynque\n",
      "['Ornithorynque', 'Dragon', 'Chiot', 'Chien', 'Chat', 'Lapin']\n",
      "['Chat', 'Chien', 'Chiot', 'Dragon', 'Lapin', 'Ornithorynque']\n",
      "['Chat', 'Chien', 'Chiot', 'Dragon', 'Lapin', 'Ornithorynque', 'troll']\n",
      "['Dragon', 'Ornithorynque', 'troll']\n",
      "['troll', 'Dragon', 'Ornithorynque']\n"
     ]
    }
   ],
   "source": [
    "list=[\"Lapin\",\"Chat\",\"Chien\",\"Chiot\",\"Dragon\",\"Ornithorynque\"]\n",
    "for a in list :\n",
    "    print(a)\n",
    "list.reverse()\n",
    "print(list)\n",
    "list.sort()\n",
    "print(list)\n",
    "list.append(\"troll\")\n",
    "print(list)\n",
    "for a in ('Chat','Chien','Chiot','Lapin'):\n",
    "    list.remove(a)\n",
    "print(list)\n",
    "list.sort(key=len)\n",
    "print(list)"
   ]
  },
  {
   "cell_type": "markdown",
   "id": "7fbe24c5",
   "metadata": {},
   "source": [
    "EX8"
   ]
  },
  {
   "cell_type": "code",
   "execution_count": 19,
   "id": "e3b335ba",
   "metadata": {},
   "outputs": [
    {
     "name": "stdout",
     "output_type": "stream",
     "text": [
      "Lapin possede 5 caractére\n",
      "Chat possede 4 caractére\n",
      "Chien possede 5 caractére\n",
      "Chiot possede 5 caractére\n",
      "Dragon possede 6 caractére\n",
      "Ornithorynque possede 13 caractére\n"
     ]
    }
   ],
   "source": [
    "list=[\"Lapin\",\"Chat\",\"Chien\",\"Chiot\",\"Dragon\",\"Ornithorynque\"]\n",
    "for a in list :\n",
    "    print('{} possede {} caractére'.format(a,len(a)))"
   ]
  },
  {
   "cell_type": "markdown",
   "id": "43e10aa0",
   "metadata": {},
   "source": [
    "EX9"
   ]
  },
  {
   "cell_type": "code",
   "execution_count": null,
   "id": "73851ecb",
   "metadata": {},
   "outputs": [],
   "source": [
    "import random as rd\n",
    "l=[]\n",
    "for i in range(10):\n",
    "    l.append(rd.randint(0,100))\n",
    "print(l)\n",
    "a=int(input('donner un entier'))\n",
    "if a in l:\n",
    "    print(\"exist\")\n",
    "else :\n",
    "    print(\"n'existe pas\")"
   ]
  },
  {
   "cell_type": "markdown",
   "id": "35491b80",
   "metadata": {},
   "source": [
    "EX10"
   ]
  },
  {
   "cell_type": "code",
   "execution_count": 27,
   "id": "638aaab1",
   "metadata": {},
   "outputs": [
    {
     "name": "stdout",
     "output_type": "stream",
     "text": [
      "[1, 2, 3, 4]\n"
     ]
    }
   ],
   "source": [
    "L3= [1, 2, 2, 3, 3, 4]\n",
    "res=[]\n",
    "for x in L3:\n",
    "    v=False\n",
    "    for j in res:\n",
    "        if x==j :\n",
    "            v=True\n",
    "            break\n",
    "    if not v:\n",
    "        res.append(x)\n",
    "print(res)\n",
    "    \n",
    "\n",
    "    "
   ]
  },
  {
   "cell_type": "markdown",
   "id": "5258616c",
   "metadata": {},
   "source": [
    "EX10-b"
   ]
  },
  {
   "cell_type": "code",
   "execution_count": 28,
   "id": "46deddfa",
   "metadata": {},
   "outputs": [
    {
     "name": "stdout",
     "output_type": "stream",
     "text": [
      "{1, 2, 3, 4}\n"
     ]
    }
   ],
   "source": [
    "L3= [1, 2, 2, 3, 3, 4]\n",
    "L4=set(L3)\n",
    "print(L4)"
   ]
  },
  {
   "cell_type": "markdown",
   "id": "1cad0253",
   "metadata": {},
   "source": [
    "EX11"
   ]
  },
  {
   "cell_type": "code",
   "execution_count": 34,
   "id": "4e7844ac",
   "metadata": {},
   "outputs": [
    {
     "name": "stdout",
     "output_type": "stream",
     "text": [
      "il ya des doublant\n"
     ]
    }
   ],
   "source": [
    "L3= [1, 2, 2, 3, 3, 4]\n",
    "present=False\n",
    "for i in range(len(L3)):\n",
    "    for j in range(i+1,len(L3)) :\n",
    "        if L3[i]==L3[j] :\n",
    "            present=True\n",
    "            break\n",
    "if not present:\n",
    "    print(\"pas de doublant\")\n",
    "else :\n",
    "    print(\"il ya des doublant\")"
   ]
  },
  {
   "cell_type": "markdown",
   "id": "e8763252",
   "metadata": {},
   "source": [
    "EX12"
   ]
  },
  {
   "cell_type": "code",
   "execution_count": 36,
   "id": "bcaf2a3d",
   "metadata": {},
   "outputs": [
    {
     "name": "stdout",
     "output_type": "stream",
     "text": [
      "False\n",
      "2\n",
      "False\n",
      "mardi\n",
      "('lundi', 'mardi', 'mercredi', 'jeudi', 'vendredi', 'samedi', 'dimanche')\n"
     ]
    }
   ],
   "source": [
    "jours1 = (\"lundi\", \"mardi\", \"mercredi\", \"jeudi\", \"vendredi\")\n",
    "jours2 = (\"samedi\", \"dimanche\")\n",
    "print(\"samedi\" in jours1)\n",
    "print(len(jours2))\n",
    "print(jours1 == jours2)\n",
    "print(jours1[1])\n",
    "semaine = jours1 + jours2\n",
    "print(semaine)\n"
   ]
  },
  {
   "cell_type": "markdown",
   "id": "ef9c4b2e",
   "metadata": {},
   "source": [
    "EX13"
   ]
  },
  {
   "cell_type": "code",
   "execution_count": 42,
   "id": "a875c6cd",
   "metadata": {},
   "outputs": [
    {
     "name": "stdout",
     "output_type": "stream",
     "text": [
      "[4, 6, 2, 4]\n",
      "[1, 7, 3]\n"
     ]
    }
   ],
   "source": [
    "st=(1, 4, 6, 7, 3, 2, 4)\n",
    "pairs = []\n",
    "impairs = []\n",
    "for el in st:\n",
    "     if el % 2 == 0:\n",
    "            pairs.append(el)\n",
    "     else:\n",
    "            impairs.append(el)\n",
    "print(pairs)\n",
    "print(impairs)"
   ]
  },
  {
   "cell_type": "markdown",
   "id": "03b76f59",
   "metadata": {},
   "source": [
    "EX14"
   ]
  },
  {
   "cell_type": "code",
   "execution_count": 44,
   "id": "55770c10",
   "metadata": {},
   "outputs": [
    {
     "name": "stdout",
     "output_type": "stream",
     "text": [
      "donner un entier5\n",
      "[6, 7]\n",
      "[1, 4, 3, 2, 4]\n"
     ]
    }
   ],
   "source": [
    "st=(1, 4, 6, 7, 3, 2, 4)\n",
    "s=int(input(\"donner un entier\"))\n",
    "inf = []\n",
    "sup = []\n",
    "for el in st:\n",
    "    if el >= s:\n",
    "        sup.append(el)\n",
    "    else:\n",
    "        inf.append(el)\n",
    "print(sup)\n",
    "print(inf)"
   ]
  },
  {
   "cell_type": "code",
   "execution_count": null,
   "id": "68b51342",
   "metadata": {},
   "outputs": [],
   "source": []
  }
 ],
 "metadata": {
  "kernelspec": {
   "display_name": "Python 3 (ipykernel)",
   "language": "python",
   "name": "python3"
  },
  "language_info": {
   "codemirror_mode": {
    "name": "ipython",
    "version": 3
   },
   "file_extension": ".py",
   "mimetype": "text/x-python",
   "name": "python",
   "nbconvert_exporter": "python",
   "pygments_lexer": "ipython3",
   "version": "3.9.12"
  }
 },
 "nbformat": 4,
 "nbformat_minor": 5
}
